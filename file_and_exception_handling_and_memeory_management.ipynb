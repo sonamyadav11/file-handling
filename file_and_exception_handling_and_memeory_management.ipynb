{
  "nbformat": 4,
  "nbformat_minor": 0,
  "metadata": {
    "colab": {
      "provenance": [],
      "authorship_tag": "ABX9TyPb49YyhN7dwnL1hr73F63a",
      "include_colab_link": true
    },
    "kernelspec": {
      "name": "python3",
      "display_name": "Python 3"
    },
    "language_info": {
      "name": "python"
    }
  },
  "cells": [
    {
      "cell_type": "markdown",
      "metadata": {
        "id": "view-in-github",
        "colab_type": "text"
      },
      "source": [
        "<a href=\"https://colab.research.google.com/github/sonamyadav11/file-handling/blob/main/file_and_exception_handling_and_memeory_management.ipynb\" target=\"_parent\"><img src=\"https://colab.research.google.com/assets/colab-badge.svg\" alt=\"Open In Colab\"/></a>"
      ]
    },
    {
      "cell_type": "markdown",
      "source": [],
      "metadata": {
        "id": "znUj1Oxl-OMe"
      }
    },
    {
      "cell_type": "markdown",
      "source": [
        "THEORY QUESTIONS:\n",
        "\n",
        "### 1. **Difference Between Interpreted and Compiled Languages**:\n",
        "| Aspect                  | Interpreted Languages                             | Compiled Languages                              |\n",
        "|-------------------------|--------------------------------------------------|------------------------------------------------|\n",
        "| **Execution Process**   | Executes code line by line via an interpreter.    | Converts the entire source code into machine code before execution. |\n",
        "| **Speed**               | Slower due to real-time interpretation.           | Faster as machine code is executed directly.   |\n",
        "| **Examples**            | Python, JavaScript, Ruby                         | C, C++, Rust                                   |\n",
        "| **Error Detection**     | Errors are detected during runtime.               | Errors are detected during the compilation stage. |\n",
        "| **Output**              | Directly executes commands; no standalone file.   | Produces an executable file.                   |\n",
        "\n",
        "---\n",
        "\n",
        "### 2. **What is Exception Handling in Python?**\n",
        "Exception handling in Python allows you to gracefully handle runtime errors (exceptions) and prevent them from crashing the program. It is done using the `try`, `except`, `else`, and `finally` keywords.\n",
        "\n",
        "#### Example:\n",
        "```python\n",
        "try:\n",
        "    result = 10 / 0  # This raises ZeroDivisionError\n",
        "except ZeroDivisionError:\n",
        "    print(\"Cannot divide by zero!\")\n",
        "```\n",
        "**Key Points**:\n",
        "- **`try` block**: Contains code that may raise an exception.\n",
        "- **`except` block**: Executes when a specific exception is raised.\n",
        "- **`else` block**: Runs if no exception is raised.\n",
        "- **`finally` block**: Executes always, regardless of an exception.\n",
        "\n",
        "---\n",
        "\n",
        "### 3. **What is the Purpose of the `finally` Block in Exception Handling?**\n",
        "The `finally` block in Python is used to execute code that must run regardless of whether an exception occurs. It is typically used for cleanup operations like closing files, releasing resources, etc.\n",
        "\n",
        "#### Example:\n",
        "```python\n",
        "try:\n",
        "    file = open(\"example.txt\", \"r\")\n",
        "    data = file.read()\n",
        "except FileNotFoundError:\n",
        "    print(\"File not found.\")\n",
        "finally:\n",
        "    print(\"Closing the file.\")\n",
        "    file.close()\n",
        "```\n",
        "\n",
        "\n",
        "- Ensures critical code runs no matter what happens.\n",
        "- Always executes after `try` and `except`, even if an unhandled exception occurs.\n",
        "\n",
        "---\n",
        "\n",
        "### 4. **What is Logging in Python?**\n",
        "Logging in Python is a way to track events in a program. It helps in debugging, monitoring, and recording errors or information about the program's execution.\n",
        "\n",
        "#### Example:\n",
        "```python\n",
        "import logging\n",
        "\n",
        "logging.basicConfig(level=logging.INFO)\n",
        "logging.info(\"This is an informational message.\")\n",
        "logging.error(\"This is an error message.\")\n",
        "```\n",
        "\n",
        "\n",
        "- Logging provides different levels of severity: **DEBUG**, **INFO**, **WARNING**, **ERROR**, **CRITICAL**.\n",
        "- You can log messages to the console, files, or external systems.\n",
        "- Unlike `print`, logging is more flexible and configurable.\n",
        "\n",
        "---\n",
        "\n",
        "### 5. **What is the Significance of the `__del__` Method in Python?**\n",
        "The `__del__` method in Python is a special method called a destructor. It is invoked automatically when an object is about to be destroyed (garbage collected). It is often used for cleanup operations, such as closing files or releasing resources.\n",
        "\n",
        "#### Example:\n",
        "```python\n",
        "class Demo:\n",
        "    def __del__(self):\n",
        "        print(\"Object is being destroyed.\")\n",
        "\n",
        "obj = Demo()\n",
        "del obj  # Manually deletes the object\n",
        "```\n",
        "\n",
        "\n",
        "- It is not guaranteed to be called immediately after the object goes out of scope, as garbage collection timing is unpredictable.\n",
        "- Avoid relying heavily on `__del__` for resource management; prefer using **context managers** or **finally blocks** for explicit cleanup.\n",
        "\n",
        "### 6. **Difference Between `import` and `from ... import` in Python**\n",
        "\n",
        "| **Aspect**                 | **`import` Statement**                            | **`from ... import` Statement**                         |\n",
        "|----------------------------|---------------------------------------------------|--------------------------------------------------------|\n",
        "| **Syntax**                 | `import module`                                  | `from module import specific_function`                  |\n",
        "| **Usage**                  | Imports the entire module.                       | Imports specific functions, classes, or variables directly from a module. |\n",
        "| **Access**                 | Access module contents with dot notation.        | Access specific elements without dot notation.        |\n",
        "| **Memory Usage**          | May consume more memory due to loading the full module. | Uses less memory if only specific elements are imported. |\n",
        "| **Example**               | `import math`                                     | `from math import sqrt`                                 |\n",
        "| **Code Clarity**         | More verbose but clear.                         | Shorter syntax but can make code less readable.       |\n",
        "\n",
        "**Example**:\n",
        "\n",
        "```python\n",
        "# Using import\n",
        "import math\n",
        "print(math.sqrt(16))\n",
        "\n",
        "# Using from ... import\n",
        "from math import sqrt\n",
        "print(sqrt(16))\n",
        "```\n",
        "\n",
        "---\n",
        "\n",
        "### 7. **How to Handle Multiple Exceptions in Python**\n",
        "You can handle multiple exceptions in a single `try-except` block or using multiple `except` clauses.\n",
        "\n",
        "#### Using Multiple `except` Clauses\n",
        "```python\n",
        "try:\n",
        "    num = int(\"string\")   # Raises ValueError\n",
        "    result = 10 / 0       # Raises ZeroDivisionError\n",
        "except ValueError:\n",
        "    print(\"ValueError: Cannot convert a string to an integer.\")\n",
        "except ZeroDivisionError:\n",
        "    print(\"ZeroDivisionError: Division by zero is not allowed.\")\n",
        "```\n",
        "\n",
        "#### Using a Tuple to Handle Multiple Exceptions\n",
        "```python\n",
        "try:\n",
        "    num = int(\"string\")   # Raises ValueError\n",
        "    result = 10 / 0       # Raises ZeroDivisionError\n",
        "except (ValueError, ZeroDivisionError) as e:\n",
        "    print(f\"An error occurred: {e}\")\n",
        "```\n",
        "\n",
        "---\n",
        "\n",
        "### 8. **Purpose of the `with` Statement When Handling Files in Python**\n",
        "The `with` statement is a **context manager** in Python. It ensures that resources like files are properly managed and closed after use, even if an error occurs.\n",
        "\n",
        "#### Example:\n",
        "```python\n",
        "# Open a file using the with statement\n",
        "with open(\"example.txt\", \"r\") as file:\n",
        "    content = file.read()\n",
        "    print(content)\n",
        "\n",
        "# No need to explicitly close the file\n",
        "```\n",
        "**Why Use `with`?**\n",
        "- Automatically closes the file after operations.\n",
        "- Ensures resource cleanup and prevents memory leaks.\n",
        "\n",
        "---\n",
        "\n",
        "### 9. **Difference Between Multithreading and Multiprocessing**\n",
        "\n",
        "| **Aspect**                 | **Multithreading**                                  | **Multiprocessing**                                     |\n",
        "|----------------------------|--------------------------------------------------------|---------------------------------------------------------|\n",
        "| **Definition**            | Multiple threads run in a single process.             | Multiple processes run independently, each with its own memory.  |\n",
        "| **Concurrency**            | In Python, due to the **Global Interpreter Lock (GIL)**, it has limited parallel execution. | Runs completely in parallel and uses separate memory space.   |\n",
        "| **Memory Usage**           | Shares memory among threads (less memory usage).       | Uses more memory as each process has its own separate memory space. |\n",
        "| **Use Case**              | Ideal for I/O-bound operations.                     | Better suited for CPU-bound operations.                  |\n",
        "| **Python Module**          | `threading` module                                  | `multiprocessing` module                                |\n",
        "\n",
        "**Example**:\n",
        "\n",
        "**Multithreading**:\n",
        "```python\n",
        "import threading\n",
        "\n",
        "def say_hello():\n",
        "    print(\"Hello from thread!\")\n",
        "\n",
        "# Creating a thread\n",
        "thread = threading.Thread(target=say_hello)\n",
        "thread.start()\n",
        "thread.join()\n",
        "```\n",
        "\n",
        "**Multiprocessing**:\n",
        "```python\n",
        "import multiprocessing\n",
        "\n",
        "def say_hello():\n",
        "    print(\"Hello from process!\")\n",
        "\n",
        "# Creating a process\n",
        "process = multiprocessing.Process(target=say_hello)\n",
        "process.start()\n",
        "process.join()\n",
        "```\n",
        "\n",
        "---\n",
        "\n",
        "### 10. **Advantages of Using Logging in a Program**\n",
        "\n",
        "| **Advantages**                   |\n",
        "|----------------------------------|\n",
        "| **Debugging**                   | Helps trace errors and debug programs. |\n",
        "| **Monitoring**                 | Provides insights into the application's status and performance. |\n",
        "| **Error Reporting**            | Logs errors for better troubleshooting. |\n",
        "| **Flexibility**                | Configurable logging levels (DEBUG, INFO, WARNING, ERROR, CRITICAL). |\n",
        "| **Persistence**                | Logs can be written to files, external systems, or consoles. |\n",
        "\n",
        "**Example**:\n",
        "\n",
        "```python\n",
        "import logging\n",
        "\n",
        "logging.basicConfig(level=logging.INFO)\n",
        "logging.info(\"Application started successfully.\")\n",
        "```\n",
        "\n",
        "---\n",
        "\n",
        "### 11. **What is Memory Management in Python?**\n",
        "Python handles memory management **automatically** with the help of the built-in **garbage collector** and reference counting.\n",
        "\n",
        "\n",
        "1. **Reference Counting**:\n",
        "- Every Python object has a reference count.\n",
        "- When an object's reference count drops to zero, it is automatically deallocated.\n",
        "\n",
        "2. **Garbage Collector**:\n",
        "- Python's garbage collector handles **circular references** that reference counting can't address.\n",
        "- It frees memory by automatically cleaning up unused objects.\n",
        "\n",
        "12. What are the Basic Steps Involved in Exception Handling in Python?\n",
        "The basic steps for exception handling in Python follow the try, except, else, and finally keywords.\n",
        "\n",
        "Try: Place the code that may raise an exception inside the try block.\n",
        "Except: Handle the exceptions by specifying the type of exception in the except block.\n",
        "Else: Optionally, include an else block that runs if no exceptions are raised.\n",
        "Finally: Always execute cleanup code, such as closing resources, in the finally block.\n",
        "\n",
        "13 Why is Memory Management Important in Python?\n",
        "Memory management is crucial because it:\n",
        "\n",
        "Optimizes Resources: Efficiently uses RAM and CPU resources.\n",
        "Prevents Memory Leaks: Ensures that unused memory is automatically freed.\n",
        "Improves Performance: Proper memory management helps maintain system stability and performance.\n",
        "Automatic Cleanup: Python uses built-in mechanisms like garbage collection to handle memory automatically.\n",
        "\n",
        "14 What is the Role of try and except in Exception Handling?\n",
        "try: Contains the code that may raise an exception.\n",
        "except: Catches and handles exceptions that occur in the try block.\n",
        "Example:\n",
        "\n",
        "python\n",
        "Copy code\n",
        "try:\n",
        "    num = int(\"abc\")\n",
        "except ValueError:\n",
        "    print(\"A ValueError occurred.\")\n",
        "\n",
        "15 How Does Python's Garbage Collection System Work?\n",
        "Python uses automatic memory management and garbage collection to handle memory cleanup.\n",
        "\n",
        "Reference Counting:\n",
        "Python maintains a reference count for each object in memory. When an object's reference count becomes zero, it is automatically deallocated.\n",
        "\n",
        "Garbage Collector:\n",
        "Garbage collection deals with circular references that reference counting cannot handle. Python’s gc module is responsible for cleaning up these circular references.\n",
        "\n",
        "16 . What is the Purpose of the else Block in Exception Handling?\n",
        "The else block is executed only if no exceptions are raised.\n",
        "It is often used for code that should run when everything in the try block is successful.\n",
        "\n",
        "17 What are the Common Logging Levels in Python?\n",
        "Python’s logging module provides several logging levels to represent the severity of messages:\n",
        "\n",
        "Level\tPurpose\n",
        "DEBUG\tDetailed information for debugging.\n",
        "INFO\tGeneral information about program execution.\n",
        "WARNING\tAlerts about potential issues.\n",
        "ERROR\tErrors that prevent execution.\n",
        "CRITICAL\tSevere errors requiring immediate attention.\n",
        "\n",
        "18 What is the Difference Between os.fork() and Multiprocessing in Python?\n",
        "Attribute\tos.fork()\tMultiprocessing\n",
        "Purpose\tCreates a new process by duplicating the current process.\tProvides high-level support for creating separate processes with the multiprocessing module.\n",
        "Portability\tWorks only on Unix-based systems.\tCross-platform (Windows & Unix).\n",
        "Memory Sharing\tShares memory with parent process.\tSeparate memory space for each process.\n",
        "Ease of Use\tRequires more manual handling.\n",
        "\n",
        "19 What is the Importance of Closing a File in Python?\n",
        "Resource Management: Ensures that file resources are properly released.\n",
        "Data Integrity: Prevents corruption by ensuring that all data is written to disk.\n",
        "Avoid Memory Leaks: Keeps memory efficient by releasing open file descriptors.\n",
        "\n",
        "20 What is the Difference Between file.read() and file.readline() in Python?\n",
        "\n",
        "Use file.read() to load the full content quickly if the file is small.\n",
        "Use file.readline() to read a file line by line to save memory.\n",
        "\n",
        "21 What is the Logging Module in Python Used For?\n",
        "\n",
        "The logging module in Python is used to track events and debug your applications. It provides a flexible framework for logging messages, errors, and diagnostic information.\n",
        "\n",
        "Purpose:\n",
        "\n",
        "Debugging: Helps diagnose issues by providing detailed logs.\n",
        "Error Tracking: Logs exceptions and error messages to help troubleshoot problems.\n",
        "Monitoring: Keeps a record of program activity for performance and auditing.\n",
        "\n",
        "22 What is the os Module in Python Used for in File Handling?\n",
        "The os module in Python provides a way to interact with the operating system, and it has useful functions for file and directory handling.\n",
        "\n",
        "Key File Handling Operations:\n",
        "Path Manipulation: Work with file paths (os.path).\n",
        "File Creation, Deletion: Create and delete files and directories.\n",
        "Directory Traversal: List and change directories.\n",
        "File Information Retrieval: Check file size, existence, and modification time.\n",
        "\n",
        "23 What are the Challenges Associated with Memory Management in Python?\n",
        "\n",
        "Python uses automatic memory management, but it still comes with some challenges:\n",
        "\n",
        "Memory Leaks:\n",
        "\n",
        "Occur when references to objects are not properly deleted.\n",
        "Commonly caused by circular references or objects being held by long-lived data structures like lists and dictionaries.\n",
        "Garbage Collection Overhead:\n",
        "\n",
        "Python uses reference counting and the garbage collector.\n",
        "The garbage collector can add overhead, especially in applications with many short-lived objects or circular references.\n",
        "Memory Consumption:\n",
        "Lists and dictionaries consume more memory due to dynamic resizing and hash tables.\n",
        "``\n",
        "24 How Do You Raise an Exception Manually in Python?\n",
        "You can raise an exception manually using the raise keyword. This allows you to signal that an error condition has occurred intentionally.\n",
        "\n",
        "Syntax:\n",
        "\n",
        "python\n",
        "Copy code\n",
        "raise ExceptionType(\"Error message\")`\n",
        "\n",
        "25 Why is it Important to Use Multithreading in Certain Applications?\n",
        "Multithreading allows a Python program to run multiple threads concurrently, making better use of system resources, especially in I/O-bound applications.\n",
        "\n",
        "Key Advantages:\n",
        "Improved Responsiveness:\n",
        "\n",
        "In applications like web servers, multithreading can handle multiple requests simultaneously without blocking other operations.\n",
        "Efficient I/O-Bound Operations:\n",
        "\n",
        "Multithreading is best suited for network requests, file I/O, or database operations, where waiting for external resources is common.\n",
        "Parallel Execution:\n",
        "\n",
        "Python threads share the same memory space, making it fast and efficient for communication between threads.\n",
        "\n",
        "\n",
        "\n",
        "\n"
      ],
      "metadata": {
        "id": "4LXkjRzE5nYf"
      }
    },
    {
      "cell_type": "markdown",
      "source": [
        "                                                       practical question  "
      ],
      "metadata": {
        "id": "U78xIAq7CPnH"
      }
    },
    {
      "cell_type": "code",
      "source": [
        "#1 How can you open a file for writing in Python and write a string to it?\n",
        "\n",
        "file=open(\"content.txt\",\"w\")\n",
        "file.write(\"hii i am alice \\n\")\n",
        "file.write(\"this is first time handling file in python \\n\")\n",
        "file.close()"
      ],
      "metadata": {
        "id": "TP-f_Rg55iH7"
      },
      "execution_count": null,
      "outputs": []
    },
    {
      "cell_type": "code",
      "source": [
        "#2 Write a Python program to read the contents of a file and print each line\n",
        "\n",
        "file=open(\"content.txt\",\"r\")\n",
        "for i in file:\n",
        "  print(i)"
      ],
      "metadata": {
        "colab": {
          "base_uri": "https://localhost:8080/"
        },
        "id": "uruSp-8lWUAU",
        "outputId": "50736e53-aeaf-4c4a-bad0-63a0bbd0955f"
      },
      "execution_count": null,
      "outputs": [
        {
          "output_type": "stream",
          "name": "stdout",
          "text": [
            "hii i am alice \n",
            "\n",
            "this is first time handling file in python \n",
            "\n"
          ]
        }
      ]
    },
    {
      "cell_type": "code",
      "source": [
        "#3  How would you handle a case where the file doesn't exist while trying to open it for reading?\n",
        "\n",
        "try:\n",
        "  with open(\"hello.txt\",\"r\") as file:\n",
        "    print(file.read())\n",
        "except FileNotFoundError:\n",
        "  print(\"file not found\")"
      ],
      "metadata": {
        "id": "BVYRvRueYHjq",
        "colab": {
          "base_uri": "https://localhost:8080/"
        },
        "outputId": "886f4187-e966-426e-a85c-9174c9523319"
      },
      "execution_count": null,
      "outputs": [
        {
          "output_type": "stream",
          "name": "stdout",
          "text": [
            "file not found\n"
          ]
        }
      ]
    },
    {
      "cell_type": "code",
      "source": [
        "#4  Write a Python script that reads from one file and writes its content to another file?\n",
        "with open(\"content.txt\",\"r\") as source_file:\n",
        "  content_of_sourcefile=source_file.read()\n",
        "\n",
        "with open(\"destination_file\",\"w\") as destination:\n",
        "  destination.write(content_of_sourcefile)\n",
        "\n"
      ],
      "metadata": {
        "id": "vbup0BMDbSWq"
      },
      "execution_count": null,
      "outputs": []
    },
    {
      "cell_type": "code",
      "source": [
        "# 5 How would you catch and handle division by zero error in Python\n",
        "\n",
        "try:\n",
        "  numerator=int(input(\"enter a number\"))\n",
        "  denominator=int (input(\"enter num for division\"))\n",
        "\n",
        "  ans=numerator/denominator\n",
        "  print(ans)\n",
        "\n",
        "except ZeroDivisionError:\n",
        "  print(\"division is not possible with zero\")"
      ],
      "metadata": {
        "colab": {
          "base_uri": "https://localhost:8080/"
        },
        "id": "o7rPuMB8fnkn",
        "outputId": "93fc65a0-5dd3-46bd-85fb-aa86dff06adc"
      },
      "execution_count": null,
      "outputs": [
        {
          "output_type": "stream",
          "name": "stdout",
          "text": [
            "enter a number12\n",
            "enter num for division0\n",
            "division is not possible with zero\n"
          ]
        }
      ]
    },
    {
      "cell_type": "code",
      "source": [
        "#6  Write a Python program that logs an error message to a log file when a division by zero exception occurs\n",
        "\n",
        "import logging\n",
        "logging.basicConfig(\n",
        "    filename=\"error_log.txt\",\n",
        "    level=logging.ERROR,\n",
        "    format=\"%(asctime)s-%(levelname)s-%(message)s\",\n",
        "    force=True\n",
        ")\n",
        "\n",
        "def divide_by_zero(a,b):\n",
        "  try:\n",
        "    result = a / b\n",
        "    print(f\"Result: {result}\")\n",
        "  except ZeroDivisionError as e:\n",
        "     logging.error(\"Attempted to divide by zero.\")\n",
        "     print(\"Error: Division by zero is not allowed.\")\n",
        "divide_by_zero(10,0)"
      ],
      "metadata": {
        "id": "4gz7ZpjafnvV",
        "colab": {
          "base_uri": "https://localhost:8080/"
        },
        "outputId": "dc43fe9b-5b97-4288-908a-b67bf637d1ef"
      },
      "execution_count": null,
      "outputs": [
        {
          "output_type": "stream",
          "name": "stdout",
          "text": [
            "Error: Division by zero is not allowed.\n"
          ]
        }
      ]
    },
    {
      "cell_type": "code",
      "source": [
        "#7  How do you log information at different levels (INFO, ERROR, WARNING) in Python using the logging module\n",
        "\n",
        "import logging\n",
        "logging.basicConfig(\n",
        "    filename=\"all_error.txt\",\n",
        "    level=logging.INFO,\n",
        "    format=\"%(asctime)s-%(levelname)s-%(message)s\",\n",
        "    force=True\n",
        " )\n",
        "\n",
        "def demo_all():\n",
        "  logging.info(\"this is info\")\n",
        "  logging.error(\"this is error\")\n",
        "  logging.warning(\"this is warning\")\n",
        "\n",
        "demo_all()"
      ],
      "metadata": {
        "id": "6KqMpU7_5n6Q"
      },
      "execution_count": null,
      "outputs": []
    },
    {
      "cell_type": "code",
      "source": [
        "#8  Write a program to handle a file opening error using exception handling\n",
        "\n",
        "try:\n",
        "  with open(\"hello.txt\",\"r\") as file:\n",
        "    print(file.read())\n",
        "except FileNotFoundError:\n",
        "  print(\"file not found\")\n"
      ],
      "metadata": {
        "colab": {
          "base_uri": "https://localhost:8080/"
        },
        "id": "RoT-B6EH54GJ",
        "outputId": "9b68ec72-084c-4e93-c489-cb525648c8c8"
      },
      "execution_count": null,
      "outputs": [
        {
          "output_type": "stream",
          "name": "stdout",
          "text": [
            "file not found\n"
          ]
        }
      ]
    },
    {
      "cell_type": "code",
      "source": [
        "#9  How can you read a file line by line and store its content in a list in Python\n",
        "with open(\"content.txt\",\"w\") as file:\n",
        "  file.write(\"hello!\\n\")\n",
        "  file.write(\"i am practicing filehandling \\n\")\n",
        "  file.write(\" exception handling\\n\")\n",
        "\n",
        "\n",
        "list_content=[]\n",
        "with open(\"content.txt\",\"r\") as file:\n",
        "\n",
        "   for i in file:\n",
        "     list_content.append(i.rstrip('\\n'))\n",
        "print(list_content)"
      ],
      "metadata": {
        "colab": {
          "base_uri": "https://localhost:8080/"
        },
        "id": "QS_nFDPU7CIx",
        "outputId": "c7eda19d-6c5c-472f-d772-3faafdd3a3a1"
      },
      "execution_count": null,
      "outputs": [
        {
          "output_type": "stream",
          "name": "stdout",
          "text": [
            "['hello!', 'i am practicing filehandling ', ' exception handling']\n"
          ]
        }
      ]
    },
    {
      "cell_type": "code",
      "source": [
        "# 10  How can you append data to an existing file in Python?\n",
        "\n",
        "with open(\"content.txt\",\"a\") as file:\n",
        "  file.write(\"this is method to append data in existing file\")\n"
      ],
      "metadata": {
        "id": "AbvRQNph8MXU"
      },
      "execution_count": null,
      "outputs": []
    },
    {
      "cell_type": "code",
      "source": [
        "# 11 Write a Python program that uses a try-except block to handle an error when attempting to access a\n",
        "#dictionary key that doesn't exist\n",
        "\n",
        "dict={\"name\":\"sonam\",\"age\":\"20\"}\n",
        "try:\n",
        "  print(dict[\"gender\"])\n",
        "except KeyError as e:\n",
        "  print(f\"keyword not found in dictonary,{e}\")"
      ],
      "metadata": {
        "colab": {
          "base_uri": "https://localhost:8080/"
        },
        "id": "3PW-biRJ-0sA",
        "outputId": "8a64ef6c-63b5-4629-8a25-1486ac9565e1"
      },
      "execution_count": null,
      "outputs": [
        {
          "output_type": "stream",
          "name": "stdout",
          "text": [
            "keyword not found in dictonary,'gender'\n"
          ]
        }
      ]
    },
    {
      "cell_type": "code",
      "source": [
        "# 12  Write a program that demonstrates using multiple except blocks to handle different types of exception\n",
        "try:\n",
        "  numerator=int(input(\"enter a number\"))\n",
        "  denominator=int (input(\"enter num for division\"))\n",
        "\n",
        "  ans=numerator/denominator\n",
        "  print(ans)\n",
        "\n",
        "except ZeroDivisionError:\n",
        "  print(\"division is not possible with zero\")\n",
        "\n",
        "except ValueError as e:\n",
        "  print(f\"enter integer value not other like ,{e}\")\n",
        "\n",
        "\n",
        "\n",
        "\n"
      ],
      "metadata": {
        "colab": {
          "base_uri": "https://localhost:8080/"
        },
        "id": "xt-CEHVo_8E1",
        "outputId": "72639d28-a193-4bad-9912-d9cc441fc491"
      },
      "execution_count": null,
      "outputs": [
        {
          "output_type": "stream",
          "name": "stdout",
          "text": [
            "enter a number12\n",
            "enter num for division0\n",
            "division is not possible with zero\n"
          ]
        }
      ]
    },
    {
      "cell_type": "code",
      "source": [
        "#13 How would you check if a file exists before attempting to read it in Python\n",
        "\n",
        "import os\n",
        "file_path=\"hello.txt\"\n",
        "if os.path.exists(file_path):\n",
        "  with open(file_path,\"r\") as file:\n",
        "    print(file.read())\n",
        "else:\n",
        "  print(\"file not found\")"
      ],
      "metadata": {
        "colab": {
          "base_uri": "https://localhost:8080/"
        },
        "id": "E2KMfK8lCLW9",
        "outputId": "bee7ba17-2642-4cf6-e647-e01ac8e3f574"
      },
      "execution_count": null,
      "outputs": [
        {
          "output_type": "stream",
          "name": "stdout",
          "text": [
            "file not found\n"
          ]
        }
      ]
    },
    {
      "cell_type": "code",
      "source": [
        "# 14 Write a program that uses the logging module to log both informational and error messages\n",
        "\n",
        "import logging\n",
        "logging.basicConfig(\n",
        "    filename=\"log2.txt\" ,\n",
        "    level=logging.INFO,\n",
        "    format=\"%(asctime)s-%(levelname)s-%(message)s\",\n",
        "    force=True\n",
        ")\n",
        "\n",
        "def zero_div(a,b):\n",
        "  try:\n",
        "    result=a/b\n",
        "    logging.info(\"division successfull\")\n",
        "  except ZeroDivisionError:\n",
        "    print(\"division is not possible with zero\")\n",
        "    logging.error(\"division not possible with zero\")\n",
        "\n",
        "zero_div(20,10)\n",
        "zero_div(2,0)\n"
      ],
      "metadata": {
        "colab": {
          "base_uri": "https://localhost:8080/"
        },
        "id": "y4GajGD1ClaT",
        "outputId": "31c960e5-0466-432b-dc3f-88ee59b35660"
      },
      "execution_count": null,
      "outputs": [
        {
          "output_type": "stream",
          "name": "stdout",
          "text": [
            "division is not possible with zero\n"
          ]
        }
      ]
    },
    {
      "cell_type": "code",
      "source": [
        "# 15  Write a Python program that prints the content of a file and handles the case when the file is empty\n",
        "with open(\"hello.txt\",\"w\") as file:\n",
        "  file.write(\" \")\n",
        "\n",
        "try:\n",
        "  with open(\"hello.txt\",\"r\") as file:\n",
        "    content=file.read()\n",
        "  if  not content.strip():\n",
        "      print(\"file is empty\")\n",
        "  else:\n",
        "     print(content)\n",
        "\n",
        "except FileNotFoundError as e:\n",
        "  print(f\"file not found as,{e}\")\n",
        "\n"
      ],
      "metadata": {
        "id": "mnaOCAzkEwiM",
        "colab": {
          "base_uri": "https://localhost:8080/"
        },
        "outputId": "73d55000-c0b6-4ccb-880e-5bc1f066f6ef"
      },
      "execution_count": null,
      "outputs": [
        {
          "output_type": "stream",
          "name": "stdout",
          "text": [
            "file is empty\n"
          ]
        }
      ]
    },
    {
      "cell_type": "code",
      "source": [
        "# 16  Demonstrate how to use memory profiling to check the memory usage of a small program\n",
        "\n"
      ],
      "metadata": {
        "id": "2VgcW232hPek"
      },
      "execution_count": null,
      "outputs": []
    },
    {
      "cell_type": "code",
      "source": [
        "#17  Write a Python program to create and write a list of numbers to a file, one number per line\n",
        "\n",
        "with open(\"number.txt\",\"w\") as file:\n",
        "  for i in range(1,31):\n",
        "\n",
        "   file.write(f\"{i}\\n\")\n",
        "\n",
        "\n"
      ],
      "metadata": {
        "id": "0LVpO21MhXHR"
      },
      "execution_count": null,
      "outputs": []
    },
    {
      "cell_type": "code",
      "source": [
        "# 18How would you implement a basic logging setup that logs to a file with rotation after 1MB\n",
        "\n",
        "import logging\n",
        "from logging.handlers import RotatingFileHandler\n",
        "logging.basicConfig(\n",
        "    filename=\"log3.txt\",\n",
        "    level=logging.INFO,\n",
        "    format=\"%(asctime)s-%(levelname)s-%(message)s\",\n",
        "    force=True\n",
        ")\n",
        "file_handler = RotatingFileHandler(\n",
        "    \"log3.txt\",      # File to save logs\n",
        "    maxBytes=1_000_000,  # Rotate after 1 MB\n",
        "    backupCount=3       # Keep 3 backup files\n",
        ")\n",
        "\n",
        "file_handler.setFormatter(format)\n",
        "logging.getLogger().addHandler(file_handler)\n",
        "\n",
        "logging.info(\"this is info\")\n",
        "logging.error(\"this is error\")\n",
        "logging.warning(\"this is warning\")\n",
        "\n"
      ],
      "metadata": {
        "id": "M6yrmm-5nj7X",
        "colab": {
          "base_uri": "https://localhost:8080/"
        },
        "outputId": "8854b044-064c-4a0a-e255-05c1fac1905d"
      },
      "execution_count": null,
      "outputs": [
        {
          "output_type": "stream",
          "name": "stderr",
          "text": [
            "--- Logging error ---\n",
            "Traceback (most recent call last):\n",
            "  File \"/usr/lib/python3.10/logging/handlers.py\", line 73, in emit\n",
            "    if self.shouldRollover(record):\n",
            "  File \"/usr/lib/python3.10/logging/handlers.py\", line 196, in shouldRollover\n",
            "    msg = \"%s\\n\" % self.format(record)\n",
            "  File \"/usr/lib/python3.10/logging/__init__.py\", line 943, in format\n",
            "    return fmt.format(record)\n",
            "AttributeError: 'builtin_function_or_method' object has no attribute 'format'\n",
            "Call stack:\n",
            "  File \"/usr/lib/python3.10/runpy.py\", line 196, in _run_module_as_main\n",
            "    return _run_code(code, main_globals, None,\n",
            "  File \"/usr/lib/python3.10/runpy.py\", line 86, in _run_code\n",
            "    exec(code, run_globals)\n",
            "  File \"/usr/local/lib/python3.10/dist-packages/colab_kernel_launcher.py\", line 37, in <module>\n",
            "    ColabKernelApp.launch_instance()\n",
            "  File \"/usr/local/lib/python3.10/dist-packages/traitlets/config/application.py\", line 992, in launch_instance\n",
            "    app.start()\n",
            "  File \"/usr/local/lib/python3.10/dist-packages/ipykernel/kernelapp.py\", line 619, in start\n",
            "    self.io_loop.start()\n",
            "  File \"/usr/local/lib/python3.10/dist-packages/tornado/platform/asyncio.py\", line 195, in start\n",
            "    self.asyncio_loop.run_forever()\n",
            "  File \"/usr/lib/python3.10/asyncio/base_events.py\", line 603, in run_forever\n",
            "    self._run_once()\n",
            "  File \"/usr/lib/python3.10/asyncio/base_events.py\", line 1909, in _run_once\n",
            "    handle._run()\n",
            "  File \"/usr/lib/python3.10/asyncio/events.py\", line 80, in _run\n",
            "    self._context.run(self._callback, *self._args)\n",
            "  File \"/usr/local/lib/python3.10/dist-packages/tornado/ioloop.py\", line 685, in <lambda>\n",
            "    lambda f: self._run_callback(functools.partial(callback, future))\n",
            "  File \"/usr/local/lib/python3.10/dist-packages/tornado/ioloop.py\", line 738, in _run_callback\n",
            "    ret = callback()\n",
            "  File \"/usr/local/lib/python3.10/dist-packages/tornado/gen.py\", line 825, in inner\n",
            "    self.ctx_run(self.run)\n",
            "  File \"/usr/local/lib/python3.10/dist-packages/tornado/gen.py\", line 786, in run\n",
            "    yielded = self.gen.send(value)\n",
            "  File \"/usr/local/lib/python3.10/dist-packages/ipykernel/kernelbase.py\", line 377, in dispatch_queue\n",
            "    yield self.process_one()\n",
            "  File \"/usr/local/lib/python3.10/dist-packages/tornado/gen.py\", line 250, in wrapper\n",
            "    runner = Runner(ctx_run, result, future, yielded)\n",
            "  File \"/usr/local/lib/python3.10/dist-packages/tornado/gen.py\", line 748, in __init__\n",
            "    self.ctx_run(self.run)\n",
            "  File \"/usr/local/lib/python3.10/dist-packages/tornado/gen.py\", line 786, in run\n",
            "    yielded = self.gen.send(value)\n",
            "  File \"/usr/local/lib/python3.10/dist-packages/ipykernel/kernelbase.py\", line 361, in process_one\n",
            "    yield gen.maybe_future(dispatch(*args))\n",
            "  File \"/usr/local/lib/python3.10/dist-packages/tornado/gen.py\", line 234, in wrapper\n",
            "    yielded = ctx_run(next, result)\n",
            "  File \"/usr/local/lib/python3.10/dist-packages/ipykernel/kernelbase.py\", line 261, in dispatch_shell\n",
            "    yield gen.maybe_future(handler(stream, idents, msg))\n",
            "  File \"/usr/local/lib/python3.10/dist-packages/tornado/gen.py\", line 234, in wrapper\n",
            "    yielded = ctx_run(next, result)\n",
            "  File \"/usr/local/lib/python3.10/dist-packages/ipykernel/kernelbase.py\", line 539, in execute_request\n",
            "    self.do_execute(\n",
            "  File \"/usr/local/lib/python3.10/dist-packages/tornado/gen.py\", line 234, in wrapper\n",
            "    yielded = ctx_run(next, result)\n",
            "  File \"/usr/local/lib/python3.10/dist-packages/ipykernel/ipkernel.py\", line 302, in do_execute\n",
            "    res = shell.run_cell(code, store_history=store_history, silent=silent)\n",
            "  File \"/usr/local/lib/python3.10/dist-packages/ipykernel/zmqshell.py\", line 539, in run_cell\n",
            "    return super(ZMQInteractiveShell, self).run_cell(*args, **kwargs)\n",
            "  File \"/usr/local/lib/python3.10/dist-packages/IPython/core/interactiveshell.py\", line 2975, in run_cell\n",
            "    result = self._run_cell(\n",
            "  File \"/usr/local/lib/python3.10/dist-packages/IPython/core/interactiveshell.py\", line 3030, in _run_cell\n",
            "    return runner(coro)\n",
            "  File \"/usr/local/lib/python3.10/dist-packages/IPython/core/async_helpers.py\", line 78, in _pseudo_sync_runner\n",
            "    coro.send(None)\n",
            "  File \"/usr/local/lib/python3.10/dist-packages/IPython/core/interactiveshell.py\", line 3257, in run_cell_async\n",
            "    has_raised = await self.run_ast_nodes(code_ast.body, cell_name,\n",
            "  File \"/usr/local/lib/python3.10/dist-packages/IPython/core/interactiveshell.py\", line 3473, in run_ast_nodes\n",
            "    if (await self.run_code(code, result,  async_=asy)):\n",
            "  File \"/usr/local/lib/python3.10/dist-packages/IPython/core/interactiveshell.py\", line 3553, in run_code\n",
            "    exec(code_obj, self.user_global_ns, self.user_ns)\n",
            "  File \"<ipython-input-22-5c2b3f098100>\", line 20, in <cell line: 20>\n",
            "    logging.info(\"this is info\")\n",
            "Message: 'this is info'\n",
            "Arguments: ()\n",
            "--- Logging error ---\n",
            "Traceback (most recent call last):\n",
            "  File \"/usr/lib/python3.10/logging/handlers.py\", line 73, in emit\n",
            "    if self.shouldRollover(record):\n",
            "  File \"/usr/lib/python3.10/logging/handlers.py\", line 196, in shouldRollover\n",
            "    msg = \"%s\\n\" % self.format(record)\n",
            "  File \"/usr/lib/python3.10/logging/__init__.py\", line 943, in format\n",
            "    return fmt.format(record)\n",
            "AttributeError: 'builtin_function_or_method' object has no attribute 'format'\n",
            "Call stack:\n",
            "  File \"/usr/lib/python3.10/runpy.py\", line 196, in _run_module_as_main\n",
            "    return _run_code(code, main_globals, None,\n",
            "  File \"/usr/lib/python3.10/runpy.py\", line 86, in _run_code\n",
            "    exec(code, run_globals)\n",
            "  File \"/usr/local/lib/python3.10/dist-packages/colab_kernel_launcher.py\", line 37, in <module>\n",
            "    ColabKernelApp.launch_instance()\n",
            "  File \"/usr/local/lib/python3.10/dist-packages/traitlets/config/application.py\", line 992, in launch_instance\n",
            "    app.start()\n",
            "  File \"/usr/local/lib/python3.10/dist-packages/ipykernel/kernelapp.py\", line 619, in start\n",
            "    self.io_loop.start()\n",
            "  File \"/usr/local/lib/python3.10/dist-packages/tornado/platform/asyncio.py\", line 195, in start\n",
            "    self.asyncio_loop.run_forever()\n",
            "  File \"/usr/lib/python3.10/asyncio/base_events.py\", line 603, in run_forever\n",
            "    self._run_once()\n",
            "  File \"/usr/lib/python3.10/asyncio/base_events.py\", line 1909, in _run_once\n",
            "    handle._run()\n",
            "  File \"/usr/lib/python3.10/asyncio/events.py\", line 80, in _run\n",
            "    self._context.run(self._callback, *self._args)\n",
            "  File \"/usr/local/lib/python3.10/dist-packages/tornado/ioloop.py\", line 685, in <lambda>\n",
            "    lambda f: self._run_callback(functools.partial(callback, future))\n",
            "  File \"/usr/local/lib/python3.10/dist-packages/tornado/ioloop.py\", line 738, in _run_callback\n",
            "    ret = callback()\n",
            "  File \"/usr/local/lib/python3.10/dist-packages/tornado/gen.py\", line 825, in inner\n",
            "    self.ctx_run(self.run)\n",
            "  File \"/usr/local/lib/python3.10/dist-packages/tornado/gen.py\", line 786, in run\n",
            "    yielded = self.gen.send(value)\n",
            "  File \"/usr/local/lib/python3.10/dist-packages/ipykernel/kernelbase.py\", line 377, in dispatch_queue\n",
            "    yield self.process_one()\n",
            "  File \"/usr/local/lib/python3.10/dist-packages/tornado/gen.py\", line 250, in wrapper\n",
            "    runner = Runner(ctx_run, result, future, yielded)\n",
            "  File \"/usr/local/lib/python3.10/dist-packages/tornado/gen.py\", line 748, in __init__\n",
            "    self.ctx_run(self.run)\n",
            "  File \"/usr/local/lib/python3.10/dist-packages/tornado/gen.py\", line 786, in run\n",
            "    yielded = self.gen.send(value)\n",
            "  File \"/usr/local/lib/python3.10/dist-packages/ipykernel/kernelbase.py\", line 361, in process_one\n",
            "    yield gen.maybe_future(dispatch(*args))\n",
            "  File \"/usr/local/lib/python3.10/dist-packages/tornado/gen.py\", line 234, in wrapper\n",
            "    yielded = ctx_run(next, result)\n",
            "  File \"/usr/local/lib/python3.10/dist-packages/ipykernel/kernelbase.py\", line 261, in dispatch_shell\n",
            "    yield gen.maybe_future(handler(stream, idents, msg))\n",
            "  File \"/usr/local/lib/python3.10/dist-packages/tornado/gen.py\", line 234, in wrapper\n",
            "    yielded = ctx_run(next, result)\n",
            "  File \"/usr/local/lib/python3.10/dist-packages/ipykernel/kernelbase.py\", line 539, in execute_request\n",
            "    self.do_execute(\n",
            "  File \"/usr/local/lib/python3.10/dist-packages/tornado/gen.py\", line 234, in wrapper\n",
            "    yielded = ctx_run(next, result)\n",
            "  File \"/usr/local/lib/python3.10/dist-packages/ipykernel/ipkernel.py\", line 302, in do_execute\n",
            "    res = shell.run_cell(code, store_history=store_history, silent=silent)\n",
            "  File \"/usr/local/lib/python3.10/dist-packages/ipykernel/zmqshell.py\", line 539, in run_cell\n",
            "    return super(ZMQInteractiveShell, self).run_cell(*args, **kwargs)\n",
            "  File \"/usr/local/lib/python3.10/dist-packages/IPython/core/interactiveshell.py\", line 2975, in run_cell\n",
            "    result = self._run_cell(\n",
            "  File \"/usr/local/lib/python3.10/dist-packages/IPython/core/interactiveshell.py\", line 3030, in _run_cell\n",
            "    return runner(coro)\n",
            "  File \"/usr/local/lib/python3.10/dist-packages/IPython/core/async_helpers.py\", line 78, in _pseudo_sync_runner\n",
            "    coro.send(None)\n",
            "  File \"/usr/local/lib/python3.10/dist-packages/IPython/core/interactiveshell.py\", line 3257, in run_cell_async\n",
            "    has_raised = await self.run_ast_nodes(code_ast.body, cell_name,\n",
            "  File \"/usr/local/lib/python3.10/dist-packages/IPython/core/interactiveshell.py\", line 3473, in run_ast_nodes\n",
            "    if (await self.run_code(code, result,  async_=asy)):\n",
            "  File \"/usr/local/lib/python3.10/dist-packages/IPython/core/interactiveshell.py\", line 3553, in run_code\n",
            "    exec(code_obj, self.user_global_ns, self.user_ns)\n",
            "  File \"<ipython-input-22-5c2b3f098100>\", line 21, in <cell line: 21>\n",
            "    logging.error(\"this is error\")\n",
            "Message: 'this is error'\n",
            "Arguments: ()\n",
            "--- Logging error ---\n",
            "Traceback (most recent call last):\n",
            "  File \"/usr/lib/python3.10/logging/handlers.py\", line 73, in emit\n",
            "    if self.shouldRollover(record):\n",
            "  File \"/usr/lib/python3.10/logging/handlers.py\", line 196, in shouldRollover\n",
            "    msg = \"%s\\n\" % self.format(record)\n",
            "  File \"/usr/lib/python3.10/logging/__init__.py\", line 943, in format\n",
            "    return fmt.format(record)\n",
            "AttributeError: 'builtin_function_or_method' object has no attribute 'format'\n",
            "Call stack:\n",
            "  File \"/usr/lib/python3.10/runpy.py\", line 196, in _run_module_as_main\n",
            "    return _run_code(code, main_globals, None,\n",
            "  File \"/usr/lib/python3.10/runpy.py\", line 86, in _run_code\n",
            "    exec(code, run_globals)\n",
            "  File \"/usr/local/lib/python3.10/dist-packages/colab_kernel_launcher.py\", line 37, in <module>\n",
            "    ColabKernelApp.launch_instance()\n",
            "  File \"/usr/local/lib/python3.10/dist-packages/traitlets/config/application.py\", line 992, in launch_instance\n",
            "    app.start()\n",
            "  File \"/usr/local/lib/python3.10/dist-packages/ipykernel/kernelapp.py\", line 619, in start\n",
            "    self.io_loop.start()\n",
            "  File \"/usr/local/lib/python3.10/dist-packages/tornado/platform/asyncio.py\", line 195, in start\n",
            "    self.asyncio_loop.run_forever()\n",
            "  File \"/usr/lib/python3.10/asyncio/base_events.py\", line 603, in run_forever\n",
            "    self._run_once()\n",
            "  File \"/usr/lib/python3.10/asyncio/base_events.py\", line 1909, in _run_once\n",
            "    handle._run()\n",
            "  File \"/usr/lib/python3.10/asyncio/events.py\", line 80, in _run\n",
            "    self._context.run(self._callback, *self._args)\n",
            "  File \"/usr/local/lib/python3.10/dist-packages/tornado/ioloop.py\", line 685, in <lambda>\n",
            "    lambda f: self._run_callback(functools.partial(callback, future))\n",
            "  File \"/usr/local/lib/python3.10/dist-packages/tornado/ioloop.py\", line 738, in _run_callback\n",
            "    ret = callback()\n",
            "  File \"/usr/local/lib/python3.10/dist-packages/tornado/gen.py\", line 825, in inner\n",
            "    self.ctx_run(self.run)\n",
            "  File \"/usr/local/lib/python3.10/dist-packages/tornado/gen.py\", line 786, in run\n",
            "    yielded = self.gen.send(value)\n",
            "  File \"/usr/local/lib/python3.10/dist-packages/ipykernel/kernelbase.py\", line 377, in dispatch_queue\n",
            "    yield self.process_one()\n",
            "  File \"/usr/local/lib/python3.10/dist-packages/tornado/gen.py\", line 250, in wrapper\n",
            "    runner = Runner(ctx_run, result, future, yielded)\n",
            "  File \"/usr/local/lib/python3.10/dist-packages/tornado/gen.py\", line 748, in __init__\n",
            "    self.ctx_run(self.run)\n",
            "  File \"/usr/local/lib/python3.10/dist-packages/tornado/gen.py\", line 786, in run\n",
            "    yielded = self.gen.send(value)\n",
            "  File \"/usr/local/lib/python3.10/dist-packages/ipykernel/kernelbase.py\", line 361, in process_one\n",
            "    yield gen.maybe_future(dispatch(*args))\n",
            "  File \"/usr/local/lib/python3.10/dist-packages/tornado/gen.py\", line 234, in wrapper\n",
            "    yielded = ctx_run(next, result)\n",
            "  File \"/usr/local/lib/python3.10/dist-packages/ipykernel/kernelbase.py\", line 261, in dispatch_shell\n",
            "    yield gen.maybe_future(handler(stream, idents, msg))\n",
            "  File \"/usr/local/lib/python3.10/dist-packages/tornado/gen.py\", line 234, in wrapper\n",
            "    yielded = ctx_run(next, result)\n",
            "  File \"/usr/local/lib/python3.10/dist-packages/ipykernel/kernelbase.py\", line 539, in execute_request\n",
            "    self.do_execute(\n",
            "  File \"/usr/local/lib/python3.10/dist-packages/tornado/gen.py\", line 234, in wrapper\n",
            "    yielded = ctx_run(next, result)\n",
            "  File \"/usr/local/lib/python3.10/dist-packages/ipykernel/ipkernel.py\", line 302, in do_execute\n",
            "    res = shell.run_cell(code, store_history=store_history, silent=silent)\n",
            "  File \"/usr/local/lib/python3.10/dist-packages/ipykernel/zmqshell.py\", line 539, in run_cell\n",
            "    return super(ZMQInteractiveShell, self).run_cell(*args, **kwargs)\n",
            "  File \"/usr/local/lib/python3.10/dist-packages/IPython/core/interactiveshell.py\", line 2975, in run_cell\n",
            "    result = self._run_cell(\n",
            "  File \"/usr/local/lib/python3.10/dist-packages/IPython/core/interactiveshell.py\", line 3030, in _run_cell\n",
            "    return runner(coro)\n",
            "  File \"/usr/local/lib/python3.10/dist-packages/IPython/core/async_helpers.py\", line 78, in _pseudo_sync_runner\n",
            "    coro.send(None)\n",
            "  File \"/usr/local/lib/python3.10/dist-packages/IPython/core/interactiveshell.py\", line 3257, in run_cell_async\n",
            "    has_raised = await self.run_ast_nodes(code_ast.body, cell_name,\n",
            "  File \"/usr/local/lib/python3.10/dist-packages/IPython/core/interactiveshell.py\", line 3473, in run_ast_nodes\n",
            "    if (await self.run_code(code, result,  async_=asy)):\n",
            "  File \"/usr/local/lib/python3.10/dist-packages/IPython/core/interactiveshell.py\", line 3553, in run_code\n",
            "    exec(code_obj, self.user_global_ns, self.user_ns)\n",
            "  File \"<ipython-input-22-5c2b3f098100>\", line 22, in <cell line: 22>\n",
            "    logging.warning(\"this is warning\")\n",
            "Message: 'this is warning'\n",
            "Arguments: ()\n"
          ]
        }
      ]
    },
    {
      "cell_type": "code",
      "source": [
        "# 19 Write a program that handles both IndexError and KeyError using a try-except block\n",
        "\n",
        "dict1={\"name\":\"alice\",\"age\":\"20\"}\n",
        "list1=[1,2,3]\n",
        "try:\n",
        "  print(dict1[\"gender\"])\n",
        "except KeyError as e:\n",
        "  print(f\"keyword not found in dictonary,{e}\")\n",
        "\n",
        "try:\n",
        "  print(list1[3])\n",
        "except IndexError as e:\n",
        "  print(f\"index is not there in list,{e}\")"
      ],
      "metadata": {
        "colab": {
          "base_uri": "https://localhost:8080/"
        },
        "id": "RY-qQR-WzWwR",
        "outputId": "9d56bd8f-758e-42db-ae04-4600de2556b4"
      },
      "execution_count": null,
      "outputs": [
        {
          "output_type": "stream",
          "name": "stdout",
          "text": [
            "keyword not found in dictonary,'gender'\n",
            "index is not there in list,list index out of range\n"
          ]
        }
      ]
    },
    {
      "cell_type": "code",
      "source": [
        "# 20  How would you open a file and read its contents using a context manager in Python\n",
        "\n",
        "file_path = \"example.txt\"\n",
        "\n",
        "try:\n",
        "    with open(file_path, \"r\") as file:\n",
        "        contents = file.read()\n",
        "        print(contents)\n",
        "except FileNotFoundError:\n",
        "    print(f\"The file '{file_path}' does not exist.\")"
      ],
      "metadata": {
        "colab": {
          "base_uri": "https://localhost:8080/"
        },
        "id": "OXmH2KCe00pM",
        "outputId": "2aa924ca-9a18-4c45-eaf8-421dec1fe395"
      },
      "execution_count": null,
      "outputs": [
        {
          "output_type": "stream",
          "name": "stdout",
          "text": [
            "The file 'example.txt' does not exist.\n"
          ]
        }
      ]
    },
    {
      "cell_type": "code",
      "source": [
        "# 21  Write a Python program that reads a file and prints the number of occurrences of a specific word\n",
        "\n",
        "def word_count(file_path,target_word):\n",
        "  word_count=0\n",
        "  with open(file_path,\"r\") as file:\n",
        "    content=file.read()\n",
        "    word_count=content.lower().count(target_word.lower())\n",
        "    return word_count\n",
        "\n",
        "file_path=\"content.txt\"\n",
        "target_word=\"hello\"\n",
        "count=word_count(file_path,target_word)\n",
        "print(f\"word {target_word} has occured {count} times in file\")"
      ],
      "metadata": {
        "colab": {
          "base_uri": "https://localhost:8080/"
        },
        "id": "wbb9F9-w1VBI",
        "outputId": "45de4c2f-616a-40bd-c881-01039d4998aa"
      },
      "execution_count": null,
      "outputs": [
        {
          "output_type": "stream",
          "name": "stdout",
          "text": [
            "word hello has occured 1 times in file\n"
          ]
        }
      ]
    },
    {
      "cell_type": "code",
      "source": [
        "# 22  How can you check if a file is empty before attempting to read its contents\n",
        "with open(\"hello.txt\",\"r\") as file:\n",
        "  content=file.read().strip()\n",
        "  if not content:\n",
        "    print(\"file is empty\")\n",
        "  else:\n",
        "    print(content)"
      ],
      "metadata": {
        "colab": {
          "base_uri": "https://localhost:8080/"
        },
        "id": "gca1za1S3nQs",
        "outputId": "331d3800-bb33-46f1-f5bc-b3a554417aa4"
      },
      "execution_count": null,
      "outputs": [
        {
          "output_type": "stream",
          "name": "stdout",
          "text": [
            "file is empty\n"
          ]
        }
      ]
    },
    {
      "cell_type": "code",
      "source": [
        "# 23  Write a Python program that writes to a log file when an error occurs during file handling\n",
        "import logging\n",
        "logging.basicConfig(\n",
        "    filename=\"log4.txt\",\n",
        "    level=logging.ERROR,\n",
        "    format=\"%(asctime)s-%(levelname)s-%(message)s\",\n",
        "    force=True\n",
        ")\n",
        "try:\n",
        "  with open(\"hello1.txt\",\"r\") as file:\n",
        "    content=file.read()\n",
        "    print(content)\n",
        "except FileNotFoundError as e:\n",
        "  logging.error(f\"file not found,{e}\")\n",
        "\n"
      ],
      "metadata": {
        "id": "52tCT1AM4Flx"
      },
      "execution_count": null,
      "outputs": []
    }
  ]
}